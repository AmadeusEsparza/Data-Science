{
  "nbformat": 4,
  "nbformat_minor": 0,
  "metadata": {
    "colab": {
      "provenance": [],
      "authorship_tag": "ABX9TyPJPb6DgsXqoO4+pRtpHl8A",
      "include_colab_link": true
    },
    "kernelspec": {
      "name": "python3",
      "display_name": "Python 3"
    },
    "language_info": {
      "name": "python"
    }
  },
  "cells": [
    {
      "cell_type": "markdown",
      "metadata": {
        "id": "view-in-github",
        "colab_type": "text"
      },
      "source": [
        "<a href=\"https://colab.research.google.com/github/AmadeusEsparza/Data-Science/blob/main/CRUD_MEJORADO.ipynb\" target=\"_parent\"><img src=\"https://colab.research.google.com/assets/colab-badge.svg\" alt=\"Open In Colab\"/></a>"
      ]
    },
    {
      "cell_type": "code",
      "source": [
        "\n",
        "\n",
        "def show_menu():\n",
        "    print('*Menu*')\n",
        "    print(\"1. Crear Agenda\")\n",
        "    print(\"2. Añadir contactos\")\n",
        "    print(\"3. Leer contactos\")\n",
        "    print(\"4. Actualizar contactos\")\n",
        "    print(\"5. Eliminar contactos\")\n",
        "    print(\"6. Ver Agenda\")\n",
        "    print(\"7. Salir\")\n",
        "\n",
        "    option = int(input(\"Ingrese una opción: \"))\n",
        "    return option\n",
        "\n",
        "def execute_option(option):\n",
        "    if option == 1:\n",
        "        create_agenda()\n",
        "    elif option == 2:\n",
        "        create_contact()\n",
        "    elif option == 3:\n",
        "        read_contact()\n",
        "    elif option == 4:\n",
        "        update_contact()\n",
        "    elif option == 5:\n",
        "        delete_contact()\n",
        "    elif option == 6:\n",
        "        show_agenda()\n",
        "    elif option == 7:\n",
        "        exit_agenda()\n",
        "    else:\n",
        "        print(\"Opción inválida.\")\n",
        "\n",
        "def create_agenda():\n",
        "    global agenda\n",
        "    agenda = {}\n",
        "    print(\"Agenda creada.\")\n",
        "\n",
        "def create_contact():\n",
        "    global agenda\n",
        "    contact_id = input('Ingresa el nombre del contacto: ')\n",
        "    new_name = input('Ingresa un nombre: ')\n",
        "    new_number = int(input('Ingresa un número: '))\n",
        "    new_email = input('Ingresa un correo: ')\n",
        "\n",
        "    agenda[contact_id] = {'nombre': new_name, 'numero': new_number, 'correo': new_email}\n",
        "    for contact, details in agenda.items():\n",
        "        print(f\"Contacto agregado: {contact}\")\n",
        "        for key, value in details.items():\n",
        "            print(f\"  {key}: {value}\")\n",
        "\n",
        "def read_contact():\n",
        "    global agenda\n",
        "    contact_id = input('Ingresa el nombre del contacto: ')\n",
        "\n",
        "    if contact_id in agenda:\n",
        "        contacto = agenda[contact_id]\n",
        "        print(contacto)\n",
        "    else:\n",
        "        print('El contacto no existe.')\n",
        "\n",
        "def update_contact():\n",
        "    global agenda\n",
        "    contact_id = input('Ingresa el nombre del contacto a reemplazar: ')\n",
        "\n",
        "    if contact_id in agenda:\n",
        "        replace_new_contact_id = input('Ingresa el nuevo nombre de contacto: ')\n",
        "        replace_new_name = input('Ingresa el nuevo nombre: ')\n",
        "        replace_new_number = int(input('Ingresa el nuevo número: '))\n",
        "        replace_new_email = input('Ingresa el nuevo email: ')\n",
        "\n",
        "        del agenda[contact_id]\n",
        "        agenda[replace_new_contact_id] = {'nombre': replace_new_name, 'numero': replace_new_number, 'correo': replace_new_email}\n",
        "        print(\"Contacto reemplazado exitosamente.\")\n",
        "    else:\n",
        "        print('El contacto no existe.')\n",
        "\n",
        "def delete_contact():\n",
        "    global agenda\n",
        "    contact_id = input('Ingresa el nombre del contacto: ')\n",
        "\n",
        "    if contact_id in agenda:\n",
        "        del agenda[contact_id]\n",
        "        print(f\"Contacto '{contact_id}' eliminado.\")\n",
        "    else:\n",
        "        print('El contacto no existe.')\n",
        "\n",
        "def show_agenda():\n",
        "    global agenda\n",
        "    if agenda:\n",
        "        for contact, details in agenda.items():\n",
        "            print(f\"Contacto: {contact}\")\n",
        "            for key, value in details.items():\n",
        "                print(f\"  {key}: {value}\")\n",
        "    else:\n",
        "        print(\"La agenda está vacía.\")\n",
        "\n",
        "def exit_agenda():\n",
        "\n",
        "    print('Saliendo de la agenda.')\n",
        "    exit()\n",
        "\n",
        "\n",
        "while True:\n",
        "    option = show_menu()\n",
        "    execute_option(option)\n",
        "    break"
      ],
      "metadata": {
        "colab": {
          "base_uri": "https://localhost:8080/"
        },
        "id": "W-5jMALhAJLS",
        "outputId": "c7b0fc3f-0445-439a-9098-1d9d38f7324f"
      },
      "execution_count": 5,
      "outputs": [
        {
          "output_type": "stream",
          "name": "stdout",
          "text": [
            "*Menu*\n",
            "1. Crear Agenda\n",
            "2. Añadir contactos\n",
            "3. Leer contactos\n",
            "4. Actualizar contactos\n",
            "5. Eliminar contactos\n",
            "6. Ver Agenda\n",
            "7. Salir\n",
            "Ingrese una opción: 7\n",
            "Saliendo de la agenda.\n"
          ]
        }
      ]
    }
  ]
}