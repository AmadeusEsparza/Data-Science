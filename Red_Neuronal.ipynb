{
  "nbformat": 4,
  "nbformat_minor": 0,
  "metadata": {
    "colab": {
      "provenance": [],
      "authorship_tag": "ABX9TyMBWGjyu+dCywgK6SQBHfij",
      "include_colab_link": true
    },
    "kernelspec": {
      "name": "python3",
      "display_name": "Python 3"
    },
    "language_info": {
      "name": "python"
    }
  },
  "cells": [
    {
      "cell_type": "markdown",
      "metadata": {
        "id": "view-in-github",
        "colab_type": "text"
      },
      "source": [
        "<a href=\"https://colab.research.google.com/github/AmadeusEsparza/Data-Science/blob/main/Red_Neuronal.ipynb\" target=\"_parent\"><img src=\"https://colab.research.google.com/assets/colab-badge.svg\" alt=\"Open In Colab\"/></a>"
      ]
    },
    {
      "cell_type": "markdown",
      "source": [
        "El código que veremos a continuación, contiene los siguientes elementos clave:"
      ],
      "metadata": {
        "id": "cDiJJ2suWMcl"
      }
    },
    {
      "cell_type": "markdown",
      "source": [
        "**Red Neuronal:** Tiene dos capas densas ocultas de 24 neuronas con activación ReLU. La salida es lineal y predice valores Q para cada acción posible.\n",
        "\n",
        "**Memoria de Repetición:** Se utiliza un búfer de memoria para almacenar transiciones (estado, acción, recompensa, siguiente estado, done). Esto ayuda a entrenar el modelo de manera más eficiente mediante muestras aleatorias.\n",
        "\n",
        "**Epsilon-Greedy:** La política explora acciones aleatorias con probabilidad epsilon y gradualmente reduce esta exploración.\n",
        "\n",
        "**Factor de Descuento (gamma):** Asegura que las recompensas a largo plazo se consideren menos importantes que las inmediatas.\n"
      ],
      "metadata": {
        "id": "9oZlr0RvWbHp"
      }
    },
    {
      "cell_type": "code",
      "execution_count": 1,
      "metadata": {
        "id": "aQAopG2vWIjU",
        "colab": {
          "base_uri": "https://localhost:8080/"
        },
        "outputId": "e12879c2-8c93-4305-8eed-52fdd44208ec"
      },
      "outputs": [
        {
          "output_type": "stream",
          "name": "stderr",
          "text": [
            "/usr/local/lib/python3.10/dist-packages/tensorflow/lite/python/util.py:55: DeprecationWarning: jax.xla_computation is deprecated. Please use the AOT APIs; see https://jax.readthedocs.io/en/latest/aot.html. For example, replace xla_computation(f)(*xs) with jit(f).lower(*xs).compiler_ir('hlo'). See CHANGELOG.md for 0.4.30 for more examples.\n",
            "  from jax import xla_computation as _xla_computation\n",
            "/usr/local/lib/python3.10/dist-packages/gym/core.py:317: DeprecationWarning: \u001b[33mWARN: Initializing wrapper in old step API which returns one bool instead of two. It is recommended to set `new_step_api=True` to use new step API. This will be the default behaviour in future.\u001b[0m\n",
            "  deprecation(\n",
            "/usr/local/lib/python3.10/dist-packages/gym/wrappers/step_api_compatibility.py:39: DeprecationWarning: \u001b[33mWARN: Initializing environment in old step API which returns one bool instead of two. It is recommended to set `new_step_api=True` to use new step API. This will be the default behaviour in future.\u001b[0m\n",
            "  deprecation(\n",
            "/usr/local/lib/python3.10/dist-packages/keras/src/layers/core/dense.py:87: UserWarning: Do not pass an `input_shape`/`input_dim` argument to a layer. When using Sequential models, prefer using an `Input(shape)` object as the first layer in the model instead.\n",
            "  super().__init__(activity_regularizer=activity_regularizer, **kwargs)\n",
            "/usr/local/lib/python3.10/dist-packages/gym/utils/passive_env_checker.py:241: DeprecationWarning: `np.bool8` is a deprecated alias for `np.bool_`.  (Deprecated NumPy 1.24)\n",
            "  if not isinstance(terminated, (bool, np.bool8)):\n"
          ]
        },
        {
          "output_type": "stream",
          "name": "stdout",
          "text": [
            "Episode 1/100, Total Reward: 29.0\n",
            "Episode 2/100, Total Reward: 24.0\n",
            "Episode 3/100, Total Reward: 20.0\n",
            "Episode 4/100, Total Reward: 13.0\n",
            "Episode 5/100, Total Reward: 34.0\n",
            "Episode 6/100, Total Reward: 19.0\n",
            "Episode 7/100, Total Reward: 13.0\n",
            "Episode 8/100, Total Reward: 17.0\n",
            "Episode 9/100, Total Reward: 9.0\n",
            "Episode 10/100, Total Reward: 32.0\n",
            "Episode 11/100, Total Reward: 24.0\n",
            "Episode 12/100, Total Reward: 40.0\n",
            "Episode 13/100, Total Reward: 30.0\n",
            "Episode 14/100, Total Reward: 26.0\n",
            "Episode 15/100, Total Reward: 16.0\n",
            "Episode 16/100, Total Reward: 16.0\n",
            "Episode 17/100, Total Reward: 14.0\n",
            "Episode 18/100, Total Reward: 13.0\n",
            "Episode 19/100, Total Reward: 18.0\n",
            "Episode 20/100, Total Reward: 9.0\n",
            "Episode 21/100, Total Reward: 15.0\n",
            "Episode 22/100, Total Reward: 30.0\n",
            "Episode 23/100, Total Reward: 19.0\n",
            "Episode 24/100, Total Reward: 34.0\n",
            "Episode 25/100, Total Reward: 10.0\n",
            "Episode 26/100, Total Reward: 20.0\n",
            "Episode 27/100, Total Reward: 18.0\n",
            "Episode 28/100, Total Reward: 17.0\n",
            "Episode 29/100, Total Reward: 15.0\n",
            "Episode 30/100, Total Reward: 33.0\n",
            "Episode 31/100, Total Reward: 17.0\n",
            "Episode 32/100, Total Reward: 33.0\n",
            "Episode 33/100, Total Reward: 20.0\n",
            "Episode 34/100, Total Reward: 15.0\n",
            "Episode 35/100, Total Reward: 11.0\n",
            "Episode 36/100, Total Reward: 12.0\n",
            "Episode 37/100, Total Reward: 23.0\n",
            "Episode 38/100, Total Reward: 11.0\n",
            "Episode 39/100, Total Reward: 9.0\n",
            "Episode 40/100, Total Reward: 14.0\n",
            "Episode 41/100, Total Reward: 13.0\n",
            "Episode 42/100, Total Reward: 17.0\n",
            "Episode 43/100, Total Reward: 23.0\n",
            "Episode 44/100, Total Reward: 31.0\n",
            "Episode 45/100, Total Reward: 16.0\n",
            "Episode 46/100, Total Reward: 14.0\n",
            "Episode 47/100, Total Reward: 14.0\n",
            "Episode 48/100, Total Reward: 18.0\n",
            "Episode 49/100, Total Reward: 12.0\n",
            "Episode 50/100, Total Reward: 16.0\n",
            "Episode 51/100, Total Reward: 22.0\n",
            "Episode 52/100, Total Reward: 15.0\n",
            "Episode 53/100, Total Reward: 41.0\n",
            "Episode 54/100, Total Reward: 21.0\n",
            "Episode 55/100, Total Reward: 10.0\n",
            "Episode 56/100, Total Reward: 12.0\n",
            "Episode 57/100, Total Reward: 20.0\n",
            "Episode 58/100, Total Reward: 15.0\n",
            "Episode 59/100, Total Reward: 19.0\n",
            "Episode 60/100, Total Reward: 17.0\n",
            "Episode 61/100, Total Reward: 16.0\n",
            "Episode 62/100, Total Reward: 18.0\n",
            "Episode 63/100, Total Reward: 16.0\n",
            "Episode 64/100, Total Reward: 28.0\n",
            "Episode 65/100, Total Reward: 21.0\n",
            "Episode 66/100, Total Reward: 11.0\n",
            "Episode 67/100, Total Reward: 10.0\n",
            "Episode 68/100, Total Reward: 12.0\n",
            "Episode 69/100, Total Reward: 11.0\n",
            "Episode 70/100, Total Reward: 24.0\n",
            "Episode 71/100, Total Reward: 31.0\n",
            "Episode 72/100, Total Reward: 44.0\n",
            "Episode 73/100, Total Reward: 33.0\n",
            "Episode 74/100, Total Reward: 17.0\n",
            "Episode 75/100, Total Reward: 13.0\n",
            "Episode 76/100, Total Reward: 20.0\n",
            "Episode 77/100, Total Reward: 22.0\n",
            "Episode 78/100, Total Reward: 10.0\n",
            "Episode 79/100, Total Reward: 16.0\n",
            "Episode 80/100, Total Reward: 21.0\n",
            "Episode 81/100, Total Reward: 14.0\n",
            "Episode 82/100, Total Reward: 14.0\n",
            "Episode 83/100, Total Reward: 13.0\n",
            "Episode 84/100, Total Reward: 18.0\n",
            "Episode 85/100, Total Reward: 11.0\n",
            "Episode 86/100, Total Reward: 15.0\n",
            "Episode 87/100, Total Reward: 13.0\n",
            "Episode 88/100, Total Reward: 25.0\n",
            "Episode 89/100, Total Reward: 18.0\n",
            "Episode 90/100, Total Reward: 12.0\n",
            "Episode 91/100, Total Reward: 17.0\n",
            "Episode 92/100, Total Reward: 19.0\n",
            "Episode 93/100, Total Reward: 19.0\n",
            "Episode 94/100, Total Reward: 20.0\n",
            "Episode 95/100, Total Reward: 14.0\n",
            "Episode 96/100, Total Reward: 23.0\n",
            "Episode 97/100, Total Reward: 19.0\n",
            "Episode 98/100, Total Reward: 12.0\n",
            "Episode 99/100, Total Reward: 12.0\n",
            "Episode 100/100, Total Reward: 20.0\n"
          ]
        }
      ],
      "source": [
        "import gym\n",
        "import random\n",
        "import numpy as np\n",
        "from keras.models import Sequential\n",
        "from keras.layers import Dense\n",
        "from tensorflow.keras.optimizers import Adam\n",
        "import random\n",
        "from collections import deque\n",
        "\n",
        "env = gym.make('CartPole-v1')\n",
        "\n",
        "#Paràmetros\n",
        "state_size = env.observation_space.shape[0]\n",
        "action_size = env.action_space.n\n",
        "batch_size = 32\n",
        "n_episodes = 100\n",
        "gamma = 0.95\n",
        "epsilon = 1.0\n",
        "epsilon_decay = 0.995\n",
        "epsilon_min = 0.01\n",
        "learning_rate = 0.001\n",
        "memory = deque(maxlen=1000)\n",
        "\n",
        "# Construir red neuronal\n",
        "def build_model():\n",
        "  model = Sequential()\n",
        "  model.add(Dense(24, input_dim=state_size, activation='relu'))\n",
        "  model.add(Dense(24, activation='relu'))\n",
        "  model.add(Dense(action_size, activation='linear'))\n",
        "  model.compile(loss='mse', optimizer=Adam(learning_rate=learning_rate))\n",
        "  return model\n",
        "\n",
        "model = build_model()\n",
        "\n",
        "#Función para elegir la acción\n",
        "\n",
        "def choose_action(state):\n",
        "  if np.random.rand() <= epsilon:\n",
        "    return random.randrange(action_size)\n",
        "  q_values = model.predict(state, verbose=0)\n",
        "  return np.argmax(q_values[0])\n",
        "\n",
        "# Entrenamiento del modelo\n",
        "def replay():\n",
        "  global epsilon\n",
        "  if len(memory) < batch_size:\n",
        "    return\n",
        "  minibatch = random.sample(memory, batch_size)\n",
        "  for state, action, reward, next_state, done in minibatch:\n",
        "    target = reward\n",
        "    if not done:\n",
        "      target = reward + gamma * np.amax(model.predict(next_state, verbose=0)[0])\n",
        "    target_f = model.predict(state, verbose=0)\n",
        "    target_f[0][action] = target\n",
        "    model.fit(state, target_f, epochs=1, verbose=0)\n",
        "  if epsilon > epsilon_min:\n",
        "    epsilon *= epsilon_decay\n",
        "\n",
        "# Entrenamiento por episodios\n",
        "for episode in range(n_episodes):\n",
        "    state = env.reset()\n",
        "    state = np.reshape(state, [1, state_size])\n",
        "    total_reward = 0\n",
        "    done = False\n",
        "\n",
        "    while not done:\n",
        "        action = choose_action(state)\n",
        "        next_state, reward, done, _ = env.step(action)\n",
        "        total_reward += reward\n",
        "        next_state = np.reshape(next_state, [1, state_size])\n",
        "        memory.append((state, action, reward, next_state, done))\n",
        "        state = next_state\n",
        "\n",
        "        if done:\n",
        "            print(f\"Episode {episode + 1}/{n_episodes}, Total Reward: {total_reward}\")\n",
        "            break\n",
        "\n",
        "    replay()\n",
        "\n",
        "env.close()"
      ]
    },
    {
      "cell_type": "code",
      "source": [],
      "metadata": {
        "id": "sfKWuZsmuPtU"
      },
      "execution_count": null,
      "outputs": []
    },
    {
      "cell_type": "markdown",
      "source": [
        "Cada neurona va a ajustar sus pesos de tal manera que buscara la recompensa más alta"
      ],
      "metadata": {
        "id": "kdfIpBsosA_V"
      }
    },
    {
      "cell_type": "code",
      "source": [],
      "metadata": {
        "id": "TG4u3d05WqGO"
      },
      "execution_count": null,
      "outputs": []
    },
    {
      "cell_type": "code",
      "source": [],
      "metadata": {
        "id": "lNhrDxURWp40"
      },
      "execution_count": null,
      "outputs": []
    }
  ]
}